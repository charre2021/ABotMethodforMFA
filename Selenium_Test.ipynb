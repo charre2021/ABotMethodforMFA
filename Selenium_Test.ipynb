{
 "cells": [
  {
   "cell_type": "code",
   "execution_count": 1,
   "id": "a66b8feb",
   "metadata": {},
   "outputs": [],
   "source": [
    "import json\n",
    "import time\n",
    "import requests\n",
    "from twilio.rest import Client\n",
    "from selenium import webdriver\n",
    "from selenium.webdriver.common.by import By\n",
    "from selenium.webdriver.common.keys import Keys\n",
    "from selenium.webdriver.support.wait import WebDriverWait\n",
    "from selenium.webdriver.support import expected_conditions as EC"
   ]
  },
  {
   "cell_type": "code",
   "execution_count": 2,
   "id": "3a5725ac",
   "metadata": {},
   "outputs": [],
   "source": [
    "# Load credentials.\n",
    "external_dict = json.load(open(\"external_references.json\"))\n",
    "\n",
    "# Generate twilio client.\n",
    "client = Client(external_dict[\"twilio_account_sid\"], external_dict[\"twilio_auth_token\"])\n",
    "\n",
    "# Step One\n",
    "driver = webdriver.Chrome()\n",
    "driver.get(external_dict[\"step_one_url\"])\n",
    "username = driver.find_element(By.ID, \"username\")\n",
    "username.send_keys(external_dict['username'])\n",
    "password = driver.find_element(By.ID, \"password\")\n",
    "password.send_keys(external_dict['password'])\n",
    "step_one_button = driver.find_element(By.CLASS_NAME, external_dict[\"step_one_class_name\"])\n",
    "step_one_button.click()\n",
    "\n",
    "# Step Two\n",
    "step_two_button = driver.find_element(By.LINK_TEXT, external_dict[\"step_two_link_text\"])\n",
    "step_two_button.click()\n",
    "\n",
    "# Wait for the text to hit and then obtain temporary passcode.\n",
    "time.sleep(10)\n",
    "passcode = int(client.messages.list()[0].body.split()[-1])\n",
    "\n",
    "# Step Three.\n",
    "driver.switch_to.window(driver.window_handles[-1])\n",
    "step_three_input_box = (\n",
    "    WebDriverWait(driver, 10).until(EC.presence_of_element_located((By.CLASS_NAME, \n",
    "                                                                    external_dict[\"step_three_class_name\"])))\n",
    ")\n",
    "step_three_input_box.send_keys(passcode)\n",
    "\n",
    "# Forcing script to wait a couple seconds. Unknown input error otherwise.\n",
    "time.sleep(2)\n",
    "step_three_input_box.send_keys(Keys.ENTER)"
   ]
  }
 ],
 "metadata": {
  "kernelspec": {
   "display_name": "Python 3 (ipykernel)",
   "language": "python",
   "name": "python3"
  },
  "language_info": {
   "codemirror_mode": {
    "name": "ipython",
    "version": 3
   },
   "file_extension": ".py",
   "mimetype": "text/x-python",
   "name": "python",
   "nbconvert_exporter": "python",
   "pygments_lexer": "ipython3",
   "version": "3.7.16"
  }
 },
 "nbformat": 4,
 "nbformat_minor": 5
}
